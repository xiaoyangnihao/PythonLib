{
 "cells": [
  {
   "cell_type": "code",
   "execution_count": 1,
   "metadata": {},
   "outputs": [],
   "source": [
    "import numpy as np"
   ]
  },
  {
   "cell_type": "markdown",
   "metadata": {},
   "source": [
    "* 复制，两者共用一块内存"
   ]
  },
  {
   "cell_type": "code",
   "execution_count": 10,
   "metadata": {},
   "outputs": [
    {
     "name": "stdout",
     "output_type": "stream",
     "text": [
      "[ 0  1  2  3  4  5  6  7  8  9 10 11]\n",
      "[ 0  1  2  3  4  5  6  7  8  9 10 11]\n",
      "90820480\n",
      "90820480\n",
      "[  0   1   2   3 100   5   6   7   8   9  10  11]\n",
      "90820480\n",
      "90820480\n"
     ]
    }
   ],
   "source": [
    "a = np.arange(12)\n",
    "b = a\n",
    "print(a)\n",
    "print(b)\n",
    "print(id(a))\n",
    "print(id(b))\n",
    "b[4] = 100\n",
    "print(a)\n",
    "print(id(a))\n",
    "print(id(b))"
   ]
  },
  {
   "cell_type": "markdown",
   "metadata": {},
   "source": [
    "* 浅复制，两者有不同的指向，但共用的是一套值"
   ]
  },
  {
   "cell_type": "code",
   "execution_count": 14,
   "metadata": {},
   "outputs": [
    {
     "name": "stdout",
     "output_type": "stream",
     "text": [
      "False\n",
      "90820480\n",
      "95503344\n",
      "[[  0   1   2   3]\n",
      " [100   5   6   7]\n",
      " [  8 200  10  11]]\n",
      "[  0   1   2   3 100   5   6   7   8 200  10  11]\n",
      "90820480\n",
      "95502864\n"
     ]
    }
   ],
   "source": [
    "c = a.view()\n",
    "print(c is a)\n",
    "print(id(a))\n",
    "print(id(c))\n",
    "c = c.reshape((3,4))\n",
    "print(c)\n",
    "c[2,1] = 200\n",
    "print(a)\n",
    "print(id(a))\n",
    "print(id(c))"
   ]
  },
  {
   "cell_type": "markdown",
   "metadata": {},
   "source": [
    "* copy函数"
   ]
  },
  {
   "cell_type": "code",
   "execution_count": 16,
   "metadata": {},
   "outputs": [
    {
     "name": "stdout",
     "output_type": "stream",
     "text": [
      "[  0   1   2   3 100   5   6   7   8 200  10  11]\n",
      "[  0   1   2   3 300   5   6   7   8 200  10  11]\n"
     ]
    }
   ],
   "source": [
    "d = a.copy()\n",
    "d[4] = 300\n",
    "print(a)\n",
    "print(d)"
   ]
  },
  {
   "cell_type": "code",
   "execution_count": 18,
   "metadata": {},
   "outputs": [
    {
     "name": "stdout",
     "output_type": "stream",
     "text": [
      "[0 2 4 6 8]\n",
      "[[0 2 4 6 8 0 2 4 6 8]\n",
      " [0 2 4 6 8 0 2 4 6 8]]\n"
     ]
    }
   ],
   "source": [
    "a = np.arange(0,10,2)\n",
    "print(a)\n",
    "b = np.tile(a,(2,2))\n",
    "print(b)"
   ]
  },
  {
   "cell_type": "code",
   "execution_count": 29,
   "metadata": {},
   "outputs": [
    {
     "name": "stdout",
     "output_type": "stream",
     "text": [
      "[[ 0.          0.84147098  0.90929743  0.14112001 -0.7568025 ]\n",
      " [-0.95892427 -0.2794155   0.6569866   0.98935825  0.41211849]\n",
      " [-0.54402111 -0.99999021 -0.53657292  0.42016704  0.99060736]\n",
      " [ 0.65028784 -0.28790332 -0.96139749 -0.75098725  0.14987721]]\n",
      "[3 0 0 1 2]\n",
      "[0.65028784 0.84147098 0.90929743 0.98935825 0.99060736]\n"
     ]
    }
   ],
   "source": [
    "data  = np.sin(np.arange(20).reshape(4,5))\n",
    "print(data)\n",
    "ind = data.argmax(axis=0)  #axis=0表示纵向获取，每列最大值的索引\n",
    "print(ind)\n",
    "print(data[ind,range(data.shape[1])])"
   ]
  },
  {
   "cell_type": "code",
   "execution_count": 33,
   "metadata": {},
   "outputs": [
    {
     "name": "stdout",
     "output_type": "stream",
     "text": [
      "[[3 4 6]\n",
      " [4 4 5]]\n"
     ]
    }
   ],
   "source": [
    "a = np.array([[6,3,4],[4,4,5]])\n",
    "b = np.sort(a,axis=1)\n",
    "print(b)"
   ]
  },
  {
   "cell_type": "code",
   "execution_count": 36,
   "metadata": {},
   "outputs": [
    {
     "name": "stdout",
     "output_type": "stream",
     "text": [
      "[0 4 3 1 2]\n",
      "[1 2 3 6 7]\n"
     ]
    }
   ],
   "source": [
    "a = np.array([1,6,7,3,2])\n",
    "j = np.argsort(a)\n",
    "print(j)\n",
    "print(a[j])"
   ]
  },
  {
   "cell_type": "code",
   "execution_count": null,
   "metadata": {},
   "outputs": [],
   "source": []
  }
 ],
 "metadata": {
  "kernelspec": {
   "display_name": "Python 3",
   "language": "python",
   "name": "python3"
  },
  "language_info": {
   "codemirror_mode": {
    "name": "ipython",
    "version": 3
   },
   "file_extension": ".py",
   "mimetype": "text/x-python",
   "name": "python",
   "nbconvert_exporter": "python",
   "pygments_lexer": "ipython3",
   "version": "3.7.1"
  }
 },
 "nbformat": 4,
 "nbformat_minor": 2
}
