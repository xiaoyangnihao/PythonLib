{
 "cells": [
  {
   "cell_type": "code",
   "execution_count": 1,
   "metadata": {},
   "outputs": [],
   "source": [
    "import numpy as np"
   ]
  },
  {
   "cell_type": "code",
   "execution_count": 2,
   "metadata": {},
   "outputs": [
    {
     "name": "stdout",
     "output_type": "stream",
     "text": [
      "[[1 2 3]\n",
      " [4 5 6]]\n",
      "-------------\n",
      "[[  2.71828183   7.3890561   20.08553692]\n",
      " [ 54.59815003 148.4131591  403.42879349]]\n",
      "-------------\n",
      "[[1.         1.41421356 1.73205081]\n",
      " [2.         2.23606798 2.44948974]]\n"
     ]
    }
   ],
   "source": [
    "a = np.array([[1,2,3],\n",
    "             [4,5,6]])\n",
    "print(a)\n",
    "print('-------------')\n",
    "b = np.exp(a)\n",
    "print(b)\n",
    "print('-------------')\n",
    "c = np.sqrt(a)\n",
    "print(c)"
   ]
  },
  {
   "cell_type": "code",
   "execution_count": 3,
   "metadata": {},
   "outputs": [
    {
     "name": "stdout",
     "output_type": "stream",
     "text": [
      "[[5. 1. 9. 3.]\n",
      " [2. 2. 7. 8.]\n",
      " [2. 6. 4. 3.]]\n"
     ]
    }
   ],
   "source": [
    "a = np.floor(10 * np.random.random((3,4)))\n",
    "print(a)"
   ]
  },
  {
   "cell_type": "code",
   "execution_count": 5,
   "metadata": {},
   "outputs": [
    {
     "name": "stdout",
     "output_type": "stream",
     "text": [
      "[5. 1. 9. 3. 2. 2. 7. 8. 2. 6. 4. 3.]\n"
     ]
    }
   ],
   "source": [
    "b = a.ravel()\n",
    "print(b)"
   ]
  },
  {
   "cell_type": "code",
   "execution_count": 6,
   "metadata": {},
   "outputs": [
    {
     "name": "stdout",
     "output_type": "stream",
     "text": [
      "[[5. 1. 9. 3.]\n",
      " [2. 2. 7. 8.]\n",
      " [2. 6. 4. 3.]]\n"
     ]
    }
   ],
   "source": [
    "c = b.reshape((3,-1))\n",
    "print(c)"
   ]
  },
  {
   "cell_type": "code",
   "execution_count": 7,
   "metadata": {},
   "outputs": [
    {
     "name": "stdout",
     "output_type": "stream",
     "text": [
      "[[5. 1.]\n",
      " [9. 3.]\n",
      " [2. 2.]\n",
      " [7. 8.]\n",
      " [2. 6.]\n",
      " [4. 3.]]\n"
     ]
    }
   ],
   "source": [
    "c.shape = (6,2)\n",
    "print(c)"
   ]
  },
  {
   "cell_type": "code",
   "execution_count": 9,
   "metadata": {},
   "outputs": [
    {
     "name": "stdout",
     "output_type": "stream",
     "text": [
      "[[5. 9. 2. 7. 2. 4.]\n",
      " [1. 3. 2. 8. 6. 3.]]\n"
     ]
    }
   ],
   "source": [
    "print(c.T)"
   ]
  },
  {
   "cell_type": "markdown",
   "metadata": {},
   "source": [
    "* numpy.hstack 横向拼接 用于增加特征数\n",
    "* numpy.vstack 纵向拼接 用于增加样本数"
   ]
  },
  {
   "cell_type": "code",
   "execution_count": 12,
   "metadata": {},
   "outputs": [
    {
     "name": "stdout",
     "output_type": "stream",
     "text": [
      "[[4. 2.]\n",
      " [2. 2.]]\n",
      "-------------\n",
      "[[2. 4.]\n",
      " [5. 4.]]\n",
      "-------------\n",
      "[[4. 2. 2. 4.]\n",
      " [2. 2. 5. 4.]]\n",
      "-------------\n",
      "[[4. 2.]\n",
      " [2. 2.]\n",
      " [2. 4.]\n",
      " [5. 4.]]\n"
     ]
    }
   ],
   "source": [
    "a = np.floor(10 * np.random.random((2,2)))\n",
    "b = np.floor(10 * np.random.random((2,2)))\n",
    "print(a)\n",
    "print('-------------')\n",
    "print(b)\n",
    "print('-------------')\n",
    "print(np.hstack((a,b)))\n",
    "print('-------------')\n",
    "print(np.vstack((a,b)))"
   ]
  },
  {
   "cell_type": "markdown",
   "metadata": {},
   "source": [
    "* numpy.hsplit 横向裁剪，也可以指向位置\n",
    "* numpy.vsplit 纵向裁剪"
   ]
  },
  {
   "cell_type": "code",
   "execution_count": 18,
   "metadata": {},
   "outputs": [
    {
     "name": "stdout",
     "output_type": "stream",
     "text": [
      "[[2. 4. 9. 4. 5. 8.]\n",
      " [5. 3. 9. 7. 6. 0.]]\n",
      "-------------\n",
      "[array([[2., 4.],\n",
      "       [5., 3.]]), array([[9., 4.],\n",
      "       [9., 7.]]), array([[5., 8.],\n",
      "       [6., 0.]])]\n",
      "-------------\n",
      "[array([[2., 4.],\n",
      "       [5., 3.]]), array([[9.],\n",
      "       [9.]]), array([[4., 5., 8.],\n",
      "       [7., 6., 0.]])]\n",
      "-------------\n",
      "[array([[2., 5.],\n",
      "       [4., 3.]]), array([[9., 9.],\n",
      "       [4., 7.]]), array([[5., 6.],\n",
      "       [8., 0.]])]\n"
     ]
    }
   ],
   "source": [
    "a = np.floor(10 * np.random.random((2,6)))\n",
    "print(a)\n",
    "print('-------------')\n",
    "print(np.hsplit(a,3))\n",
    "print('-------------')\n",
    "print(np.hsplit(a,(2,3)))\n",
    "print('-------------')\n",
    "print(np.vsplit(a.T,3))"
   ]
  },
  {
   "cell_type": "code",
   "execution_count": null,
   "metadata": {},
   "outputs": [],
   "source": []
  }
 ],
 "metadata": {
  "kernelspec": {
   "display_name": "Python 3",
   "language": "python",
   "name": "python3"
  },
  "language_info": {
   "codemirror_mode": {
    "name": "ipython",
    "version": 3
   },
   "file_extension": ".py",
   "mimetype": "text/x-python",
   "name": "python",
   "nbconvert_exporter": "python",
   "pygments_lexer": "ipython3",
   "version": "3.7.1"
  }
 },
 "nbformat": 4,
 "nbformat_minor": 2
}
