{
 "cells": [
  {
   "cell_type": "code",
   "execution_count": 1,
   "metadata": {},
   "outputs": [
    {
     "name": "stdout",
     "output_type": "stream",
     "text": [
      "['NDB_No', 'Shrt_Desc', 'Water_(g)', 'Energ_Kcal', 'Protein_(g)', 'Lipid_Tot_(g)', 'Ash_(g)', 'Carbohydrt_(g)', 'Fiber_TD_(g)', 'Sugar_Tot_(g)', 'Calcium_(mg)', 'Iron_(mg)', 'Magnesium_(mg)', 'Phosphorus_(mg)', 'Potassium_(mg)', 'Sodium_(mg)', 'Zinc_(mg)', 'Copper_(mg)', 'Manganese_(mg)', 'Selenium_(mcg)', 'Vit_C_(mg)', 'Thiamin_(mg)', 'Riboflavin_(mg)', 'Niacin_(mg)', 'Vit_B6_(mg)', 'Vit_B12_(mcg)', 'Vit_A_IU', 'Vit_A_RAE', 'Vit_E_(mg)', 'Vit_D_mcg', 'Vit_D_IU', 'Vit_K_(mcg)', 'FA_Sat_(g)', 'FA_Mono_(g)', 'FA_Poly_(g)', 'Cholestrl_(mg)']\n",
      "   Water_(g)  Protein_(g)  Lipid_Tot_(g)  Ash_(g)  Carbohydrt_(g)  \\\n",
      "0      15.87         0.85          81.11     2.11            0.06   \n",
      "1      15.87         0.85          81.11     2.11            0.06   \n",
      "2       0.24         0.28          99.48     0.00            0.00   \n",
      "3      42.41        21.40          28.74     5.11            2.34   \n",
      "4      41.11        23.24          29.68     3.18            2.79   \n",
      "\n",
      "   Fiber_TD_(g)  Sugar_Tot_(g)  FA_Sat_(g)  FA_Mono_(g)  FA_Poly_(g)  \n",
      "0           0.0           0.06      51.368       21.021        3.043  \n",
      "1           0.0           0.06      50.489       23.426        3.012  \n",
      "2           0.0           0.00      61.924       28.732        3.694  \n",
      "3           0.0           0.50      18.669        7.778        0.800  \n",
      "4           0.0           0.51      18.764        8.598        0.784  \n"
     ]
    }
   ],
   "source": [
    "import pandas as pd\n",
    "food_info = pd.read_csv('./data/food_info.csv')\n",
    "col_names = food_info.columns.tolist()\n",
    "print(col_names)\n",
    "gram_cols = []\n",
    "for c in col_names:\n",
    "    if c.endswith('(g)'):\n",
    "        gram_cols.append(c)\n",
    "gram_res = food_info[gram_cols]\n",
    "print(gram_res.head())"
   ]
  },
  {
   "cell_type": "code",
   "execution_count": 2,
   "metadata": {},
   "outputs": [
    {
     "name": "stdout",
     "output_type": "stream",
     "text": [
      "Index(['NDB_No', 'Shrt_Desc', 'Water_(g)', 'Energ_Kcal', 'Protein_(g)',\n",
      "       'Lipid_Tot_(g)', 'Ash_(g)', 'Carbohydrt_(g)', 'Fiber_TD_(g)',\n",
      "       'Sugar_Tot_(g)', 'Calcium_(mg)', 'Iron_(mg)', 'Magnesium_(mg)',\n",
      "       'Phosphorus_(mg)', 'Potassium_(mg)', 'Sodium_(mg)', 'Zinc_(mg)',\n",
      "       'Copper_(mg)', 'Manganese_(mg)', 'Selenium_(mcg)', 'Vit_C_(mg)',\n",
      "       'Thiamin_(mg)', 'Riboflavin_(mg)', 'Niacin_(mg)', 'Vit_B6_(mg)',\n",
      "       'Vit_B12_(mcg)', 'Vit_A_IU', 'Vit_A_RAE', 'Vit_E_(mg)', 'Vit_D_mcg',\n",
      "       'Vit_D_IU', 'Vit_K_(mcg)', 'FA_Sat_(g)', 'FA_Mono_(g)', 'FA_Poly_(g)',\n",
      "       'Cholestrl_(mg)'],\n",
      "      dtype='object')\n"
     ]
    }
   ],
   "source": [
    "print(food_info.columns)"
   ]
  },
  {
   "cell_type": "code",
   "execution_count": 7,
   "metadata": {},
   "outputs": [
    {
     "name": "stdout",
     "output_type": "stream",
     "text": [
      "276     38758.0\n",
      "5814    27360.0\n",
      "6192    26050.0\n",
      "1242    26000.0\n",
      "1245    24000.0\n",
      "1243    24000.0\n",
      "1244    23875.0\n",
      "292     17000.0\n",
      "1254    11588.0\n",
      "5811    10600.0\n",
      "8575     9690.0\n",
      "291      8068.0\n",
      "1249     8031.0\n",
      "5812     7893.0\n",
      "1292     7851.0\n",
      "293      7203.0\n",
      "4472     7027.0\n",
      "4836     6820.0\n",
      "1261     6580.0\n",
      "3747     6008.0\n",
      "1266     5730.0\n",
      "4835     5586.0\n",
      "4834     5493.0\n",
      "1263     5356.0\n",
      "1553     5203.0\n",
      "1552     5053.0\n",
      "1251     4957.0\n",
      "1257     4843.0\n",
      "294      4616.0\n",
      "8613     4450.0\n",
      "         ...   \n",
      "8153        NaN\n",
      "8155        NaN\n",
      "8156        NaN\n",
      "8157        NaN\n",
      "8158        NaN\n",
      "8159        NaN\n",
      "8160        NaN\n",
      "8161        NaN\n",
      "8163        NaN\n",
      "8164        NaN\n",
      "8165        NaN\n",
      "8167        NaN\n",
      "8169        NaN\n",
      "8170        NaN\n",
      "8172        NaN\n",
      "8173        NaN\n",
      "8174        NaN\n",
      "8175        NaN\n",
      "8176        NaN\n",
      "8177        NaN\n",
      "8178        NaN\n",
      "8179        NaN\n",
      "8180        NaN\n",
      "8181        NaN\n",
      "8183        NaN\n",
      "8184        NaN\n",
      "8185        NaN\n",
      "8195        NaN\n",
      "8251        NaN\n",
      "8267        NaN\n",
      "Name: Sodium_(mg), Length: 8618, dtype: float64\n"
     ]
    }
   ],
   "source": [
    "food_info.sort_values('Sodium_(mg)',inplace=True)\n",
    "#print(food_info['Sodium_(mg)'])\n",
    "food_info.sort_values('Sodium_(mg)',inplace=True,ascending=False)\n",
    "print(food_info['Sodium_(mg)'])"
   ]
  },
  {
   "cell_type": "code",
   "execution_count": null,
   "metadata": {},
   "outputs": [],
   "source": []
  }
 ],
 "metadata": {
  "kernelspec": {
   "display_name": "Python 3",
   "language": "python",
   "name": "python3"
  },
  "language_info": {
   "codemirror_mode": {
    "name": "ipython",
    "version": 3
   },
   "file_extension": ".py",
   "mimetype": "text/x-python",
   "name": "python",
   "nbconvert_exporter": "python",
   "pygments_lexer": "ipython3",
   "version": "3.7.1"
  }
 },
 "nbformat": 4,
 "nbformat_minor": 2
}
