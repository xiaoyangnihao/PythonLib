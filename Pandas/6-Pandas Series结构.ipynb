{
 "cells": [
  {
   "cell_type": "code",
   "execution_count": 6,
   "metadata": {},
   "outputs": [
    {
     "name": "stdout",
     "output_type": "stream",
     "text": [
      "Index(['FILM', 'RottenTomatoes', 'RottenTomatoes_User', 'Metacritic',\n",
      "       'Metacritic_User', 'IMDB', 'Fandango_Stars', 'Fandango_Ratingvalue',\n",
      "       'RT_norm', 'RT_user_norm', 'Metacritic_norm', 'Metacritic_user_nom',\n",
      "       'IMDB_norm', 'RT_norm_round', 'RT_user_norm_round',\n",
      "       'Metacritic_norm_round', 'Metacritic_user_norm_round',\n",
      "       'IMDB_norm_round', 'Metacritic_user_vote_count', 'IMDB_user_vote_count',\n",
      "       'Fandango_votes', 'Fandango_Difference'],\n",
      "      dtype='object')\n",
      "<class 'pandas.core.series.Series'>\n",
      "0    74\n",
      "1    85\n",
      "2    80\n",
      "3    18\n",
      "4    14\n",
      "Name: RottenTomatoes, dtype: int64\n"
     ]
    }
   ],
   "source": [
    "import pandas as pd\n",
    "fandango = pd.read_csv('./data/fandango_score_comparison.csv')\n",
    "print(fandango.columns)\n",
    "series_film = fandango['FILM']\n",
    "print(type(series_film))\n",
    "series_rt = fandango['RottenTomatoes']\n",
    "print(series_rt.head())"
   ]
  },
  {
   "cell_type": "code",
   "execution_count": 11,
   "metadata": {},
   "outputs": [
    {
     "name": "stdout",
     "output_type": "stream",
     "text": [
      "<class 'numpy.ndarray'>\n",
      "[ 74  85  80  18  14  63  42  86  99  89  84  82  99  51  90   9  46  59\n",
      "  50  17  79  59  68  60  85  99  92  88  96  92  96  89  92  10  19  11\n",
      "  52  71  51  60  94  99  97  95  75  50  30  27   9  26  67  32  54   8\n",
      "  71  39  34  64  12  12  11  46  45  26  26  92  93  60  94  98 100  93\n",
      "  72  81  61  50  90  27  30  31  55  72  34  20  13  20  81  54  97  93\n",
      "  78  98  87  96  82  96  99  25  29  57  26  16  62  17  17   7  49  13\n",
      "  40  67  52  71  96  73  90  83  89  81  80  99  84  84  95  62  45  27\n",
      "  52  60  92  97  71  54  35   5  31  14  22  77  52  18  98  87  97  97\n",
      " 100  87]\n",
      "Avengers: Age of Ultron (2015)    74\n",
      "Cinderella (2015)                 85\n",
      "Ant-Man (2015)                    80\n",
      "Do You Believe? (2015)            18\n",
      "Hot Tub Time Machine 2 (2015)     14\n",
      "dtype: int64\n",
      "Cinderella (2015)         85\n",
      "Do You Believe? (2015)    18\n",
      "dtype: int64\n"
     ]
    }
   ],
   "source": [
    "from pandas import Series\n",
    "file_names = series_film.values\n",
    "print(type(file_names))\n",
    "rt_scores = series_rt.values\n",
    "print(rt_scores)\n",
    "series_custom = Series(rt_scores, index = file_names)\n",
    "print(series_custom.head())\n",
    "series_custom[['Cinderella (2015)','Do You Believe? (2015)']]\n",
    "print(series_custom[['Cinderella (2015)','Do You Believe? (2015)']])"
   ]
  },
  {
   "cell_type": "code",
   "execution_count": null,
   "metadata": {},
   "outputs": [],
   "source": []
  }
 ],
 "metadata": {
  "kernelspec": {
   "display_name": "Python 3",
   "language": "python",
   "name": "python3"
  },
  "language_info": {
   "codemirror_mode": {
    "name": "ipython",
    "version": 3
   },
   "file_extension": ".py",
   "mimetype": "text/x-python",
   "name": "python",
   "nbconvert_exporter": "python",
   "pygments_lexer": "ipython3",
   "version": "3.7.1"
  }
 },
 "nbformat": 4,
 "nbformat_minor": 2
}
