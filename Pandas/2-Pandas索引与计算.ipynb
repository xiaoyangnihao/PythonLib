{
 "cells": [
  {
   "cell_type": "code",
   "execution_count": 1,
   "metadata": {},
   "outputs": [],
   "source": [
    "import pandas as pd\n",
    "food_info = pd.read_csv('./data/food_info.csv')"
   ]
  },
  {
   "cell_type": "code",
   "execution_count": 8,
   "metadata": {},
   "outputs": [
    {
     "name": "stdout",
     "output_type": "stream",
     "text": [
      "(8618, 36)\n",
      "   NDB_No     Shrt_Desc  Water_(g)  Energ_Kcal  Protein_(g)  Lipid_Tot_(g)  \\\n",
      "3    1004   CHEESE BLUE      42.41         353        21.40          28.74   \n",
      "4    1005  CHEESE BRICK      41.11         371        23.24          29.68   \n",
      "5    1006   CHEESE BRIE      48.42         334        20.75          27.68   \n",
      "\n",
      "   Ash_(g)  Carbohydrt_(g)  Fiber_TD_(g)  Sugar_Tot_(g)       ...        \\\n",
      "3     5.11            2.34           0.0           0.50       ...         \n",
      "4     3.18            2.79           0.0           0.51       ...         \n",
      "5     2.70            0.45           0.0           0.45       ...         \n",
      "\n",
      "   Vit_A_IU  Vit_A_RAE  Vit_E_(mg)  Vit_D_mcg  Vit_D_IU  Vit_K_(mcg)  \\\n",
      "3     721.0      198.0        0.25        0.5      21.0          2.4   \n",
      "4    1080.0      292.0        0.26        0.5      22.0          2.5   \n",
      "5     592.0      174.0        0.24        0.5      20.0          2.3   \n",
      "\n",
      "   FA_Sat_(g)  FA_Mono_(g)  FA_Poly_(g)  Cholestrl_(mg)  \n",
      "3      18.669        7.778        0.800            75.0  \n",
      "4      18.764        8.598        0.784            94.0  \n",
      "5      17.410        8.013        0.826           100.0  \n",
      "\n",
      "[3 rows x 36 columns]\n",
      "   NDB_No                 Shrt_Desc  Water_(g)  Energ_Kcal  Protein_(g)  \\\n",
      "1    1002  BUTTER WHIPPED WITH SALT      15.87         717         0.85   \n",
      "2    1003      BUTTER OIL ANHYDROUS       0.24         876         0.28   \n",
      "4    1005              CHEESE BRICK      41.11         371        23.24   \n",
      "\n",
      "   Lipid_Tot_(g)  Ash_(g)  Carbohydrt_(g)  Fiber_TD_(g)  Sugar_Tot_(g)  \\\n",
      "1          81.11     2.11            0.06           0.0           0.06   \n",
      "2          99.48     0.00            0.00           0.0           0.00   \n",
      "4          29.68     3.18            2.79           0.0           0.51   \n",
      "\n",
      "        ...        Vit_A_IU  Vit_A_RAE  Vit_E_(mg)  Vit_D_mcg  Vit_D_IU  \\\n",
      "1       ...          2499.0      684.0        2.32        1.5      60.0   \n",
      "2       ...          3069.0      840.0        2.80        1.8      73.0   \n",
      "4       ...          1080.0      292.0        0.26        0.5      22.0   \n",
      "\n",
      "   Vit_K_(mcg)  FA_Sat_(g)  FA_Mono_(g)  FA_Poly_(g)  Cholestrl_(mg)  \n",
      "1          7.0      50.489       23.426        3.012           219.0  \n",
      "2          8.6      61.924       28.732        3.694           256.0  \n",
      "4          2.5      18.764        8.598        0.784            94.0  \n",
      "\n",
      "[3 rows x 36 columns]\n"
     ]
    }
   ],
   "source": [
    "print(food_info.shape)\n",
    "#first_row = food_info.loc[0]\n",
    "first_rows = food_info.loc[3:5]\n",
    "print(first_rows)\n",
    "idx = [1,2,4]\n",
    "first_rows = food_info.loc[idx]\n",
    "print(first_rows)"
   ]
  },
  {
   "cell_type": "code",
   "execution_count": 11,
   "metadata": {},
   "outputs": [
    {
     "name": "stdout",
     "output_type": "stream",
     "text": [
      "   NDB_No  Water_(g)\n",
      "0    1001      15.87\n",
      "1    1002      15.87\n",
      "2    1003       0.24\n",
      "3    1004      42.41\n",
      "4    1005      41.11\n"
     ]
    }
   ],
   "source": [
    "#print(food_info['NDB_No'])\n",
    "columns = ['NDB_No','Water_(g)']\n",
    "print(food_info[columns].head())"
   ]
  },
  {
   "cell_type": "code",
   "execution_count": 12,
   "metadata": {},
   "outputs": [
    {
     "name": "stdout",
     "output_type": "stream",
     "text": [
      "['NDB_No', 'Shrt_Desc', 'Water_(g)', 'Energ_Kcal', 'Protein_(g)', 'Lipid_Tot_(g)', 'Ash_(g)', 'Carbohydrt_(g)', 'Fiber_TD_(g)', 'Sugar_Tot_(g)', 'Calcium_(mg)', 'Iron_(mg)', 'Magnesium_(mg)', 'Phosphorus_(mg)', 'Potassium_(mg)', 'Sodium_(mg)', 'Zinc_(mg)', 'Copper_(mg)', 'Manganese_(mg)', 'Selenium_(mcg)', 'Vit_C_(mg)', 'Thiamin_(mg)', 'Riboflavin_(mg)', 'Niacin_(mg)', 'Vit_B6_(mg)', 'Vit_B12_(mcg)', 'Vit_A_IU', 'Vit_A_RAE', 'Vit_E_(mg)', 'Vit_D_mcg', 'Vit_D_IU', 'Vit_K_(mcg)', 'FA_Sat_(g)', 'FA_Mono_(g)', 'FA_Poly_(g)', 'Cholestrl_(mg)']\n"
     ]
    }
   ],
   "source": [
    "col_names = food_info.columns.tolist()\n",
    "print(col_names)"
   ]
  },
  {
   "cell_type": "code",
   "execution_count": 15,
   "metadata": {},
   "outputs": [
    {
     "name": "stdout",
     "output_type": "stream",
     "text": [
      "   Water_(g)  Protein_(g)  Lipid_Tot_(g)  Ash_(g)  Carbohydrt_(g)  \\\n",
      "0      15.87         0.85          81.11     2.11            0.06   \n",
      "1      15.87         0.85          81.11     2.11            0.06   \n",
      "2       0.24         0.28          99.48     0.00            0.00   \n",
      "3      42.41        21.40          28.74     5.11            2.34   \n",
      "4      41.11        23.24          29.68     3.18            2.79   \n",
      "\n",
      "   Fiber_TD_(g)  Sugar_Tot_(g)  FA_Sat_(g)  FA_Mono_(g)  FA_Poly_(g)  \n",
      "0           0.0           0.06      51.368       21.021        3.043  \n",
      "1           0.0           0.06      50.489       23.426        3.012  \n",
      "2           0.0           0.00      61.924       28.732        3.694  \n",
      "3           0.0           0.50      18.669        7.778        0.800  \n",
      "4           0.0           0.51      18.764        8.598        0.784  \n"
     ]
    }
   ],
   "source": [
    "gram_cols = []\n",
    "for c in col_names:\n",
    "    if c.endswith('(g)'):\n",
    "        gram_cols.append(c)\n",
    "gram_res = food_info[gram_cols]\n",
    "print(gram_res.head())"
   ]
  },
  {
   "cell_type": "code",
   "execution_count": null,
   "metadata": {},
   "outputs": [],
   "source": []
  }
 ],
 "metadata": {
  "kernelspec": {
   "display_name": "Python 3",
   "language": "python",
   "name": "python3"
  },
  "language_info": {
   "codemirror_mode": {
    "name": "ipython",
    "version": 3
   },
   "file_extension": ".py",
   "mimetype": "text/x-python",
   "name": "python",
   "nbconvert_exporter": "python",
   "pygments_lexer": "ipython3",
   "version": "3.7.1"
  }
 },
 "nbformat": 4,
 "nbformat_minor": 2
}
